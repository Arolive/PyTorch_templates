{
 "cells": [
  {
   "cell_type": "markdown",
   "metadata": {},
   "source": [
    "## Importing packages"
   ]
  },
  {
   "cell_type": "code",
   "execution_count": 1,
   "metadata": {},
   "outputs": [],
   "source": [
    "import time\n",
    "import copy\n",
    "import numpy as np\n",
    "import pandas as pd\n",
    "from tqdm.notebook import tqdm\n",
    "from matplotlib import pyplot as plt\n",
    "from sklearn.model_selection import train_test_split\n",
    "\n",
    "# From torch\n",
    "import torch\n",
    "## nn\n",
    "import torch.nn as nn\n",
    "import torch.nn.functional as F\n",
    "## optim\n",
    "import torch.optim as optim\n",
    "from torch.optim import lr_scheduler\n",
    "## utils\n",
    "from torch.utils.data import random_split\n",
    "from torch.utils.data.dataset import Dataset\n",
    "## torchvision\n",
    "import torchvision\n",
    "from torchvision import datasets, models, transforms"
   ]
  },
  {
   "cell_type": "markdown",
   "metadata": {},
   "source": [
    "## Loading and transormation"
   ]
  },
  {
   "cell_type": "markdown",
   "metadata": {},
   "source": [
    "The data used as an example is an image data stored as a single csv file with each row representing an image. Each image is 48*48 pixel stored as a vector of length 2304. The initial column is the emotion represented to each column. The types of emotions are present. Happy, Sad and fear."
   ]
  },
  {
   "cell_type": "markdown",
   "metadata": {},
   "source": [
    "#### General"
   ]
  },
  {
   "cell_type": "markdown",
   "metadata": {},
   "source": [
    "Creating category to label encodoing and the inverted mapping"
   ]
  },
  {
   "cell_type": "code",
   "execution_count": 3,
   "metadata": {},
   "outputs": [],
   "source": [
    "cls2id = {\"Happy\": 0, \"Sad\": 1, \"Fear\": 2}\n",
    "id2cls = [\"Happy\", \"Sad\", \"Fear\"]"
   ]
  },
  {
   "cell_type": "markdown",
   "metadata": {},
   "source": [
    "Defining data length, batch size, path of the dataset and the device to use for computation. CPU or GPU"
   ]
  },
  {
   "cell_type": "code",
   "execution_count": 4,
   "metadata": {},
   "outputs": [],
   "source": [
    "BATCHSIZE = 10\n",
    "PATH = \"data/FER2013_csv.csv\"\n",
    "device = torch.device(\"cuda:0\" if torch.cuda.is_available() else \"cpu\")"
   ]
  },
  {
   "cell_type": "markdown",
   "metadata": {},
   "source": [
    "#### Custom function"
   ]
  },
  {
   "cell_type": "markdown",
   "metadata": {},
   "source": [
    "Custom function from scratch to process the data is devided into four functions.\n",
    "\n",
    "1. load_data()    : To load the data and normalize it and also doing the other required steps to create the image.\n",
    "2. loader()       : Loader calls load_data to load data and then tranform the data to tensor and make encofing of the labels.\n",
    "3. data_split()   : To split the dataset into rain and test.\n",
    "4. create_batch() : To create random batch with mentioned size. It returns a file which upon calling works same as dataloader"
   ]
  },
  {
   "cell_type": "code",
   "execution_count": 26,
   "metadata": {},
   "outputs": [],
   "source": [
    "def load_data(PATH):\n",
    "    data     = pd.read_csv(PATH)\n",
    "    labels   = data[\"emotion\"]\n",
    "    data     = data.drop([\"emotion\"], axis = 1)\n",
    "    images   = np.array(data.values).reshape(len(data.values), 48, 48)\n",
    "    images   = images/255\n",
    "    return images, labels\n",
    "    \n",
    "def loader(PATH):\n",
    "    images, labels = load_data(PATH)\n",
    "    images = torch.tensor(images)\n",
    "    images = images.view(images.shape[0], -1, images.shape[1], images.shape[2])\n",
    "\n",
    "    target = []\n",
    "    for label in labels.values:\n",
    "        target.append(cls2id[label])\n",
    "    target = torch.tensor(target)\n",
    "    \n",
    "    return images, target\n",
    "\n",
    "def data_split(X, Y, test_size, shuffle = True):\n",
    "    X_train, X_test, Y_train, Y_test = train_test_split(X, Y, test_size = test_size, shuffle = shuffle)\n",
    "    return(X_train, X_test, Y_train, Y_test)\n",
    "\n",
    "def create_batch(X, Y, batch_size = 1):\n",
    "    batch_x = [X[i: i + batch_size] for i in range(0, len(X), batch_size)]\n",
    "    batch_y = [Y[i: i + batch_size] for i in range(0, len(Y), batch_size)] \n",
    "    return list(zip(batch_x, batch_y))"
   ]
  },
  {
   "cell_type": "code",
   "execution_count": 27,
   "metadata": {},
   "outputs": [],
   "source": [
    "images, target = loader(PATH)\n",
    "train_X, test_X, train_Y, test_Y = data_split(images, target, test_size = 0.3) \n",
    "trainloader = create_batch(train_X, train_Y, batch_size = BATCHSIZE)\n",
    "testloader = create_batch(test_X, test_Y, batch_size = BATCHSIZE)"
   ]
  },
  {
   "cell_type": "markdown",
   "metadata": {},
   "source": [
    "## ResNet 101 Model 1"
   ]
  },
  {
   "cell_type": "code",
   "execution_count": 340,
   "metadata": {},
   "outputs": [],
   "source": [
    "class RESNET(nn.Module):\n",
    "    def __init__(self, base_model = None criterion = None, optimizer = None, learning_rate = 0.001, image_dimention = 1, categories = 3):\n",
    "        super(RESNET, self).__init__()\n",
    "        ## Defining networt\n",
    "         # Defaulf input image dimention is 1\n",
    "         # Default output categories is 3\n",
    "        self.pretrained = models.resnet152(pretrained = True)\n",
    "        self.pretrained.conv1 = nn.Conv2d(image_dimention, 64, kernel_size = (3, 3), stride=(2,2), padding=(3,3), bias=False)\n",
    "        num_ftrs = self.pretrained.fc.in_features\n",
    "        self.pretrained.fc = nn.Linear(num_ftrs, categories)\n",
    "        \n",
    "        ## Defining optimizer and loss function\n",
    "         # Default loss function is cross entropy\n",
    "         # Default optimizer is SGD\n",
    "         # Default learning rate is 0.001\n",
    "        if criterion is not None:\n",
    "            self.criterion = criterion\n",
    "        else:\n",
    "            self.criterion = nn.CrossEntropyLoss()\n",
    "        if optimizer  is not None:\n",
    "            self.optimizer = optimizer\n",
    "        else:\n",
    "            self.optimizer = optim.SGD(self.pretrained.parameters(), lr = learning_rate, momentum = 0.9)\n",
    "        \n",
    "    def forward(self, x):\n",
    "        x = self.pretrained.forward(x)\n",
    "        return x\n",
    "        \n",
    "    def train(self, traindata, valdata = None, numberEpoch = 10):\n",
    "        \n",
    "        trainlen = sum(list(batch[0].shape[0] for batch in traindata))\n",
    "        total_batch = len(traindata)\n",
    "        ## Loop over the dataset multiple times\n",
    "        for epoch in range(numberEpoch): \n",
    "            running_corrects = 0.0\n",
    "            running_loss     = 0.0\n",
    "            pbar = tqdm(enumerate(traindata, 0), total = total_batch, desc = \"Loss 0, Completed\", ncols = 800)\n",
    "            for count, data in pbar:\n",
    "                inputs, labels = data[0].to(device), data[1].to(device)\n",
    "                batch  = inputs.shape[0]\n",
    "                inputs = inputs.type(torch.cuda.FloatTensor)\n",
    "                \n",
    "                ## zero the parameter gradients\n",
    "                self.optimizer.zero_grad()\n",
    "                \n",
    "                ## forward + backward + optimize\n",
    "                outputs = self.forward(inputs)\n",
    "                _, preds = torch.max(outputs, 1)\n",
    "                loss = self.criterion(outputs, labels)\n",
    "                loss.backward()\n",
    "                self.optimizer.step()\n",
    "                \n",
    "                ## Calculating statistics\n",
    "                running_loss += loss.item() * batch\n",
    "                running_corrects += torch.sum(preds == labels.data)\n",
    "                \n",
    "                ## Showing statistics\n",
    "                pbar.set_description(\"Loss %.3f, Completed\" %(running_loss/trainlen))\n",
    "            epoch_loss = running_loss/trainlen\n",
    "            epoch_acc  = running_corrects/trainlen\n",
    "            print('Epoch %d completed, average loss: %.3f, accuracy: %.3f' %(epoch + 1, epoch_loss, epoch_acc))\n",
    "            \n",
    "            if valdata:\n",
    "                val_loss, val_acc = self.evaluate(valdata)\n",
    "                print('Validation, average loss: %.3f, accuracy: %.3f' %(val_loss, val_acc))\n",
    "                \n",
    "    def evaluate(self, testdata):\n",
    "        running_corrects = 0.0\n",
    "        running_loss     = 0.0\n",
    "        testlen = sum(list(batch[0].shape[0] for batch in testdata))\n",
    "        for data in testdata:\n",
    "            inputs, labels = data[0].to(device), data[1].to(device)\n",
    "            batch  = inputs.shape[0]\n",
    "            inputs = inputs.type(torch.cuda.FloatTensor)            \n",
    "            ## Forward\n",
    "            outputs = self.forward(inputs)\n",
    "            _, preds = torch.max(outputs, 1)\n",
    "            ## Loss and accuracy\n",
    "            loss = criterion(outputs, labels)\n",
    "            running_loss += loss.item() * batch\n",
    "            running_corrects += torch.sum(preds == labels.data)\n",
    "            \n",
    "        loss = running_loss/testlen\n",
    "        acc  = running_corrects/testlen\n",
    "        return loss, acc\n",
    "        \n",
    "    def predict(self, testdata, ID = None):\n",
    "        predicted_labels = []\n",
    "        for data in testdata:\n",
    "            inputs, labels = data[0].to(device), data[1].to(device)\n",
    "            batch  = inputs.shape[0]\n",
    "            inputs = inputs.type(torch.cuda.FloatTensor)            \n",
    "            ## Forward\n",
    "            outputs = self.forward(inputs)\n",
    "            _, preds = torch.max(outputs, 1)\n",
    "            predicted_labels += preds.tolist()\n",
    "        if ID:\n",
    "            return([ID[label] for label in predicted_labels])\n",
    "        return predicted_labels\n",
    "    \n",
    "def freeze_grad(model, percent_to_freeze = .80):\n",
    "    maxlayers = len(list(model.pretrained.children()))\n",
    "    freeze = int(maxlayers * percent_to_freeze)\n",
    "    print(\"Number of layers:: \", maxlayers)\n",
    "    print(\"Layers Freezed  :: \", freeze)\n",
    "    count = 0\n",
    "    for child in model.pretrained.children():\n",
    "        if count >= freeze:\n",
    "            break\n",
    "        for param in child.parameters():\n",
    "            param.requires_grad = False\n",
    "        count += 1"
   ]
  },
  {
   "cell_type": "code",
   "execution_count": 328,
   "metadata": {},
   "outputs": [
    {
     "name": "stdout",
     "output_type": "stream",
     "text": [
      "Number of layers::  10\n",
      "Layers Freezed  ::  0\n"
     ]
    }
   ],
   "source": [
    "model = RESNET()\n",
    "freeze_grad(model, 0.0)\n",
    "model = model.to(device)"
   ]
  },
  {
   "cell_type": "code",
   "execution_count": 341,
   "metadata": {},
   "outputs": [],
   "source": [
    "# model.train(trainloader, valdata = testloader, numberEpoch = 30)"
   ]
  },
  {
   "cell_type": "code",
   "execution_count": 310,
   "metadata": {},
   "outputs": [
    {
     "data": {
      "text/plain": [
       "0.5104744300677757"
      ]
     },
     "execution_count": 310,
     "metadata": {},
     "output_type": "execute_result"
    }
   ],
   "source": [
    "prediction = model.predict(testloader)\n",
    "print(\"Accuracy:: \", accuracy_score(test_Y.tolist(), prediction))"
   ]
  },
  {
   "cell_type": "markdown",
   "metadata": {},
   "source": [
    "## VGG Net "
   ]
  },
  {
   "cell_type": "code",
   "execution_count": 39,
   "metadata": {},
   "outputs": [],
   "source": [
    "class VGGNET(nn.Module):\n",
    "    def __init__(self, criterion = None, optimizer = None, learning_rate = 0.001, image_dimention = 1, categories = 3):\n",
    "        super(VGGNET, self).__init__()\n",
    "        ## Defining networt\n",
    "         # Defaulf input image dimention is 1\n",
    "         # Default output categories is 3\n",
    "        self.pretrained = models.vgg19(pretrained = True)\n",
    "        self.pretrained.features[0] = nn.Conv2d(image_dimention, 64, kernel_size=(3, 3), stride=(1, 1), padding=(1, 1))\n",
    "        num_ftrs = self.pretrained.classifier[6].in_features\n",
    "        self.pretrained.classifier[6] = nn.Linear(num_ftrs, categories)\n",
    "        \n",
    "        ## Defining optimizer and loss function\n",
    "         # Default loss function is cross entropy\n",
    "         # Default optimizer is SGD\n",
    "         # Default learning rate is 0.001\n",
    "        if criterion:\n",
    "            self.criterion = criterion\n",
    "        else:\n",
    "            self.criterion = nn.CrossEntropyLoss()\n",
    "#             self.criterion = nn.NLLLoss()\n",
    "        if optimizer:\n",
    "            self.optimizer = optimizer\n",
    "        else:\n",
    "#             self.optimizer = optim.SGD(self.pretrained.parameters(), lr = learning_rate, momentum = 0.9)\n",
    "            self.optimizer = optim.Adam(self.pretrained.parameters(), lr = learning_rate)\n",
    "        \n",
    "    def forward(self, x):\n",
    "        x = self.pretrained.forward(x)\n",
    "        return x\n",
    "        \n",
    "    def train(self, traindata, valdata = None, numberEpoch = 10):\n",
    "        \n",
    "        trainlen = sum(list(batch[0].shape[0] for batch in traindata))\n",
    "        total_batch = len(traindata)\n",
    "        ## Loop over the dataset multiple times\n",
    "        for epoch in range(numberEpoch): \n",
    "            running_corrects = 0.0\n",
    "            running_loss     = 0.0\n",
    "            pbar = tqdm(enumerate(traindata, 0), total = total_batch, desc = \"Loss 0, Completed\", ncols = 800)\n",
    "            for count, data in pbar:\n",
    "                inputs, labels = data[0].to(device), data[1].to(device)\n",
    "                batch  = inputs.shape[0]\n",
    "                inputs = inputs.type(torch.cuda.FloatTensor)\n",
    "                \n",
    "                ## zero the parameter gradients\n",
    "                self.optimizer.zero_grad()\n",
    "                \n",
    "                ## forward + backward + optimize\n",
    "                outputs = self.forward(inputs)\n",
    "                _, preds = torch.max(outputs, 1)\n",
    "                loss = self.criterion(outputs, labels)\n",
    "                loss.backward()\n",
    "                self.optimizer.step()\n",
    "                \n",
    "                ## Calculating statistics\n",
    "                running_loss += loss.item() * batch\n",
    "                running_corrects += torch.sum(preds == labels.data)\n",
    "                \n",
    "                ## Showing statistics\n",
    "                pbar.set_description(\"Loss %.3f, Completed\" %(running_loss/trainlen))\n",
    "            epoch_loss = running_loss/trainlen\n",
    "            epoch_acc  = running_corrects/trainlen\n",
    "            print('Epoch %d completed, average loss: %.3f, accuracy: %.3f' %(epoch + 1, epoch_loss, epoch_acc))\n",
    "            \n",
    "            if valdata:\n",
    "                val_loss, val_acc = self.evaluate(valdata)\n",
    "                print('Validation, average loss: %.3f, accuracy: %.3f' %(val_loss, val_acc))\n",
    "                \n",
    "    def evaluate(self, testdata):\n",
    "        running_corrects = 0.0\n",
    "        running_loss     = 0.0\n",
    "        testlen = sum(list(batch[0].shape[0] for batch in testdata))\n",
    "        with torch.no_grad():\n",
    "            for data in testdata:\n",
    "                inputs, labels = data[0].to(device), data[1].to(device)\n",
    "                batch  = inputs.shape[0]\n",
    "                inputs = inputs.type(torch.cuda.FloatTensor)            \n",
    "                ## Forward\n",
    "                outputs = self.forward(inputs)\n",
    "                _, preds = torch.max(outputs, 1)\n",
    "                ## Loss and accuracy\n",
    "                loss = self.criterion(outputs, labels)\n",
    "                running_loss += loss.item() * batch\n",
    "                running_corrects += torch.sum(preds == labels.data)\n",
    "            \n",
    "        loss = running_loss/testlen\n",
    "        acc  = running_corrects/testlen\n",
    "        return loss, acc\n",
    "        \n",
    "    def predict(self, testdata, ID = None):\n",
    "        predicted_labels = []\n",
    "        for data in testdata:\n",
    "            inputs, labels = data[0].to(device), data[1].to(device)\n",
    "            batch  = inputs.shape[0]\n",
    "            inputs = inputs.type(torch.cuda.FloatTensor)            \n",
    "            ## Forward\n",
    "            outputs = self.forward(inputs)\n",
    "            _, preds = torch.max(outputs, 1)\n",
    "            predicted_labels += preds.tolist()\n",
    "        if ID:\n",
    "            return([ID[label] for label in predicted_labels])\n",
    "        return predicted_labels\n",
    "    \n",
    "def freeze_grad(model, percent_to_freeze = .80):\n",
    "    maxlayers = len(list(model.pretrained.children()))\n",
    "    freeze = int(maxlayers * percent_to_freeze)\n",
    "    print(\"Number of layers:: \", maxlayers)\n",
    "    print(\"Layers Freezed  :: \", freeze)\n",
    "    count = 0\n",
    "    for child in model.pretrained.children():\n",
    "        if count >= freeze:\n",
    "            break\n",
    "        for param in child.parameters():\n",
    "            param.requires_grad = False\n",
    "        count += 1"
   ]
  },
  {
   "cell_type": "code",
   "execution_count": 41,
   "metadata": {},
   "outputs": [
    {
     "name": "stdout",
     "output_type": "stream",
     "text": [
      "Number of layers::  3\n",
      "Layers Freezed  ::  1\n"
     ]
    }
   ],
   "source": [
    "model_vgg = VGGNET()\n",
    "freeze_grad(model_vgg, 0.0)\n",
    "model_vgg = model_vgg.to(device)"
   ]
  },
  {
   "cell_type": "code",
   "execution_count": 42,
   "metadata": {},
   "outputs": [
    {
     "data": {
      "application/vnd.jupyter.widget-view+json": {
       "model_id": "173528654c8747f1a6e24b5b550c3886",
       "version_major": 2,
       "version_minor": 0
      },
      "text/plain": [
       "HBox(children=(FloatProgress(value=0.0, description='Loss 0, Completed', layout=Layout(flex='2'), max=758.0, s…"
      ]
     },
     "metadata": {},
     "output_type": "display_data"
    },
    {
     "name": "stdout",
     "output_type": "stream",
     "text": [
      "\n",
      "Epoch 1 completed, average loss: 1.161, accuracy: 0.414\n",
      "Validation, average loss: 1.065, accuracy: 0.453\n"
     ]
    },
    {
     "data": {
      "application/vnd.jupyter.widget-view+json": {
       "model_id": "bc5e3a845087440283413001ea78d84f",
       "version_major": 2,
       "version_minor": 0
      },
      "text/plain": [
       "HBox(children=(FloatProgress(value=0.0, description='Loss 0, Completed', layout=Layout(flex='2'), max=758.0, s…"
      ]
     },
     "metadata": {},
     "output_type": "display_data"
    },
    {
     "name": "stdout",
     "output_type": "stream",
     "text": [
      "\n",
      "Epoch 2 completed, average loss: 1.085, accuracy: 0.436\n",
      "Validation, average loss: 1.065, accuracy: 0.453\n"
     ]
    },
    {
     "data": {
      "application/vnd.jupyter.widget-view+json": {
       "model_id": "f9698081b7ef4ac99bcd16d6918a2890",
       "version_major": 2,
       "version_minor": 0
      },
      "text/plain": [
       "HBox(children=(FloatProgress(value=0.0, description='Loss 0, Completed', layout=Layout(flex='2'), max=758.0, s…"
      ]
     },
     "metadata": {},
     "output_type": "display_data"
    },
    {
     "name": "stdout",
     "output_type": "stream",
     "text": [
      "\n",
      "Epoch 3 completed, average loss: 1.085, accuracy: 0.437\n",
      "Validation, average loss: 1.065, accuracy: 0.453\n"
     ]
    },
    {
     "data": {
      "application/vnd.jupyter.widget-view+json": {
       "model_id": "8801c6a6374141d1b5d848ada04eea6d",
       "version_major": 2,
       "version_minor": 0
      },
      "text/plain": [
       "HBox(children=(FloatProgress(value=0.0, description='Loss 0, Completed', layout=Layout(flex='2'), max=758.0, s…"
      ]
     },
     "metadata": {},
     "output_type": "display_data"
    },
    {
     "name": "stdout",
     "output_type": "stream",
     "text": [
      "\n",
      "Epoch 4 completed, average loss: 1.079, accuracy: 0.438\n",
      "Validation, average loss: 1.067, accuracy: 0.453\n"
     ]
    },
    {
     "data": {
      "application/vnd.jupyter.widget-view+json": {
       "model_id": "88103433afa04dac909fa60173fca5b8",
       "version_major": 2,
       "version_minor": 0
      },
      "text/plain": [
       "HBox(children=(FloatProgress(value=0.0, description='Loss 0, Completed', layout=Layout(flex='2'), max=758.0, s…"
      ]
     },
     "metadata": {},
     "output_type": "display_data"
    },
    {
     "name": "stdout",
     "output_type": "stream",
     "text": [
      "\n",
      "Epoch 5 completed, average loss: 1.077, accuracy: 0.439\n",
      "Validation, average loss: 1.067, accuracy: 0.453\n"
     ]
    },
    {
     "data": {
      "application/vnd.jupyter.widget-view+json": {
       "model_id": "f45796d1348746c8a6035feb2841c35a",
       "version_major": 2,
       "version_minor": 0
      },
      "text/plain": [
       "HBox(children=(FloatProgress(value=0.0, description='Loss 0, Completed', layout=Layout(flex='2'), max=758.0, s…"
      ]
     },
     "metadata": {},
     "output_type": "display_data"
    },
    {
     "name": "stdout",
     "output_type": "stream",
     "text": [
      "\n",
      "Epoch 6 completed, average loss: 1.075, accuracy: 0.441\n",
      "Validation, average loss: 1.070, accuracy: 0.453\n"
     ]
    },
    {
     "data": {
      "application/vnd.jupyter.widget-view+json": {
       "model_id": "f32d57f2d8854e4d982e8951645882ab",
       "version_major": 2,
       "version_minor": 0
      },
      "text/plain": [
       "HBox(children=(FloatProgress(value=0.0, description='Loss 0, Completed', layout=Layout(flex='2'), max=758.0, s…"
      ]
     },
     "metadata": {},
     "output_type": "display_data"
    },
    {
     "name": "stdout",
     "output_type": "stream",
     "text": [
      "\n",
      "Epoch 7 completed, average loss: 1.075, accuracy: 0.441\n",
      "Validation, average loss: 1.068, accuracy: 0.453\n"
     ]
    },
    {
     "data": {
      "application/vnd.jupyter.widget-view+json": {
       "model_id": "ec244eb5e35a466fae2d48834a8303c5",
       "version_major": 2,
       "version_minor": 0
      },
      "text/plain": [
       "HBox(children=(FloatProgress(value=0.0, description='Loss 0, Completed', layout=Layout(flex='2'), max=758.0, s…"
      ]
     },
     "metadata": {},
     "output_type": "display_data"
    },
    {
     "name": "stdout",
     "output_type": "stream",
     "text": [
      "\n",
      "Epoch 8 completed, average loss: 1.075, accuracy: 0.441\n",
      "Validation, average loss: 1.069, accuracy: 0.453\n"
     ]
    },
    {
     "data": {
      "application/vnd.jupyter.widget-view+json": {
       "model_id": "608db02db03b463e8b3b614904a8da22",
       "version_major": 2,
       "version_minor": 0
      },
      "text/plain": [
       "HBox(children=(FloatProgress(value=0.0, description='Loss 0, Completed', layout=Layout(flex='2'), max=758.0, s…"
      ]
     },
     "metadata": {},
     "output_type": "display_data"
    },
    {
     "name": "stdout",
     "output_type": "stream",
     "text": [
      "\n",
      "Epoch 9 completed, average loss: 1.074, accuracy: 0.441\n",
      "Validation, average loss: 1.070, accuracy: 0.453\n"
     ]
    },
    {
     "data": {
      "application/vnd.jupyter.widget-view+json": {
       "model_id": "29bfa1405f4442fe8f05ae9a14557ef6",
       "version_major": 2,
       "version_minor": 0
      },
      "text/plain": [
       "HBox(children=(FloatProgress(value=0.0, description='Loss 0, Completed', layout=Layout(flex='2'), max=758.0, s…"
      ]
     },
     "metadata": {},
     "output_type": "display_data"
    },
    {
     "name": "stdout",
     "output_type": "stream",
     "text": [
      "\n",
      "Epoch 10 completed, average loss: 1.074, accuracy: 0.441\n",
      "Validation, average loss: 1.069, accuracy: 0.453\n"
     ]
    },
    {
     "data": {
      "application/vnd.jupyter.widget-view+json": {
       "model_id": "1cb1d2d8bf834ade8584dbe34a4ec63c",
       "version_major": 2,
       "version_minor": 0
      },
      "text/plain": [
       "HBox(children=(FloatProgress(value=0.0, description='Loss 0, Completed', layout=Layout(flex='2'), max=758.0, s…"
      ]
     },
     "metadata": {},
     "output_type": "display_data"
    },
    {
     "name": "stdout",
     "output_type": "stream",
     "text": [
      "\n",
      "Epoch 11 completed, average loss: 1.075, accuracy: 0.441\n",
      "Validation, average loss: 1.066, accuracy: 0.453\n"
     ]
    },
    {
     "data": {
      "application/vnd.jupyter.widget-view+json": {
       "model_id": "1e6ad62fc2be4c448aadf3ffb823d5a8",
       "version_major": 2,
       "version_minor": 0
      },
      "text/plain": [
       "HBox(children=(FloatProgress(value=0.0, description='Loss 0, Completed', layout=Layout(flex='2'), max=758.0, s…"
      ]
     },
     "metadata": {},
     "output_type": "display_data"
    },
    {
     "name": "stdout",
     "output_type": "stream",
     "text": [
      "\n",
      "Epoch 12 completed, average loss: 1.074, accuracy: 0.441\n",
      "Validation, average loss: 1.067, accuracy: 0.453\n"
     ]
    },
    {
     "data": {
      "application/vnd.jupyter.widget-view+json": {
       "model_id": "4db7096591424bb980c950432c555c19",
       "version_major": 2,
       "version_minor": 0
      },
      "text/plain": [
       "HBox(children=(FloatProgress(value=0.0, description='Loss 0, Completed', layout=Layout(flex='2'), max=758.0, s…"
      ]
     },
     "metadata": {},
     "output_type": "display_data"
    },
    {
     "name": "stdout",
     "output_type": "stream",
     "text": [
      "\n",
      "Epoch 13 completed, average loss: 1.074, accuracy: 0.441\n",
      "Validation, average loss: 1.066, accuracy: 0.453\n"
     ]
    },
    {
     "data": {
      "application/vnd.jupyter.widget-view+json": {
       "model_id": "f246903f32224a108f7181a1ef6b57f6",
       "version_major": 2,
       "version_minor": 0
      },
      "text/plain": [
       "HBox(children=(FloatProgress(value=0.0, description='Loss 0, Completed', layout=Layout(flex='2'), max=758.0, s…"
      ]
     },
     "metadata": {},
     "output_type": "display_data"
    },
    {
     "name": "stdout",
     "output_type": "stream",
     "text": [
      "\n",
      "Epoch 14 completed, average loss: 1.074, accuracy: 0.441\n",
      "Validation, average loss: 1.065, accuracy: 0.453\n"
     ]
    },
    {
     "data": {
      "application/vnd.jupyter.widget-view+json": {
       "model_id": "f7bd2205445c4b42936ec387d60695a7",
       "version_major": 2,
       "version_minor": 0
      },
      "text/plain": [
       "HBox(children=(FloatProgress(value=0.0, description='Loss 0, Completed', layout=Layout(flex='2'), max=758.0, s…"
      ]
     },
     "metadata": {},
     "output_type": "display_data"
    },
    {
     "name": "stdout",
     "output_type": "stream",
     "text": [
      "\n",
      "Epoch 15 completed, average loss: 1.074, accuracy: 0.441\n",
      "Validation, average loss: 1.066, accuracy: 0.453\n"
     ]
    },
    {
     "data": {
      "application/vnd.jupyter.widget-view+json": {
       "model_id": "cc97587cd36347439ecf2e7c59ebb827",
       "version_major": 2,
       "version_minor": 0
      },
      "text/plain": [
       "HBox(children=(FloatProgress(value=0.0, description='Loss 0, Completed', layout=Layout(flex='2'), max=758.0, s…"
      ]
     },
     "metadata": {},
     "output_type": "display_data"
    },
    {
     "name": "stdout",
     "output_type": "stream",
     "text": [
      "\n",
      "Epoch 16 completed, average loss: 1.074, accuracy: 0.441\n",
      "Validation, average loss: 1.066, accuracy: 0.453\n"
     ]
    },
    {
     "data": {
      "application/vnd.jupyter.widget-view+json": {
       "model_id": "71d74802916046fd8ddf41b2d9a90062",
       "version_major": 2,
       "version_minor": 0
      },
      "text/plain": [
       "HBox(children=(FloatProgress(value=0.0, description='Loss 0, Completed', layout=Layout(flex='2'), max=758.0, s…"
      ]
     },
     "metadata": {},
     "output_type": "display_data"
    },
    {
     "name": "stdout",
     "output_type": "stream",
     "text": [
      "\n",
      "Epoch 17 completed, average loss: 1.074, accuracy: 0.441\n",
      "Validation, average loss: 1.066, accuracy: 0.453\n"
     ]
    },
    {
     "data": {
      "application/vnd.jupyter.widget-view+json": {
       "model_id": "ad3334a1f33746f6a07db145db66bb52",
       "version_major": 2,
       "version_minor": 0
      },
      "text/plain": [
       "HBox(children=(FloatProgress(value=0.0, description='Loss 0, Completed', layout=Layout(flex='2'), max=758.0, s…"
      ]
     },
     "metadata": {},
     "output_type": "display_data"
    },
    {
     "name": "stdout",
     "output_type": "stream",
     "text": [
      "\n",
      "Epoch 18 completed, average loss: 1.072, accuracy: 0.441\n",
      "Validation, average loss: 1.067, accuracy: 0.453\n"
     ]
    },
    {
     "data": {
      "application/vnd.jupyter.widget-view+json": {
       "model_id": "6a2f81c822eb4503aadaec4008ebb691",
       "version_major": 2,
       "version_minor": 0
      },
      "text/plain": [
       "HBox(children=(FloatProgress(value=0.0, description='Loss 0, Completed', layout=Layout(flex='2'), max=758.0, s…"
      ]
     },
     "metadata": {},
     "output_type": "display_data"
    },
    {
     "name": "stdout",
     "output_type": "stream",
     "text": [
      "\n",
      "Epoch 19 completed, average loss: 1.074, accuracy: 0.441\n",
      "Validation, average loss: 1.065, accuracy: 0.453\n"
     ]
    },
    {
     "data": {
      "application/vnd.jupyter.widget-view+json": {
       "model_id": "514451d0bfa54a148e74fde57693c130",
       "version_major": 2,
       "version_minor": 0
      },
      "text/plain": [
       "HBox(children=(FloatProgress(value=0.0, description='Loss 0, Completed', layout=Layout(flex='2'), max=758.0, s…"
      ]
     },
     "metadata": {},
     "output_type": "display_data"
    },
    {
     "name": "stdout",
     "output_type": "stream",
     "text": [
      "\n",
      "Epoch 20 completed, average loss: 1.074, accuracy: 0.441\n",
      "Validation, average loss: 1.066, accuracy: 0.453\n"
     ]
    },
    {
     "data": {
      "application/vnd.jupyter.widget-view+json": {
       "model_id": "ae3ce6b70d56434b8aa0a7a173f5b47d",
       "version_major": 2,
       "version_minor": 0
      },
      "text/plain": [
       "HBox(children=(FloatProgress(value=0.0, description='Loss 0, Completed', layout=Layout(flex='2'), max=758.0, s…"
      ]
     },
     "metadata": {},
     "output_type": "display_data"
    },
    {
     "name": "stdout",
     "output_type": "stream",
     "text": [
      "\n",
      "Epoch 21 completed, average loss: 1.074, accuracy: 0.441\n",
      "Validation, average loss: 1.066, accuracy: 0.453\n"
     ]
    },
    {
     "data": {
      "application/vnd.jupyter.widget-view+json": {
       "model_id": "37350528a83d4c78b8834d76e05b4597",
       "version_major": 2,
       "version_minor": 0
      },
      "text/plain": [
       "HBox(children=(FloatProgress(value=0.0, description='Loss 0, Completed', layout=Layout(flex='2'), max=758.0, s…"
      ]
     },
     "metadata": {},
     "output_type": "display_data"
    },
    {
     "name": "stdout",
     "output_type": "stream",
     "text": [
      "\n",
      "Epoch 22 completed, average loss: 1.073, accuracy: 0.441\n",
      "Validation, average loss: 1.065, accuracy: 0.453\n"
     ]
    },
    {
     "data": {
      "application/vnd.jupyter.widget-view+json": {
       "model_id": "0bd6fce1c29c4e21a51f663b931a09f7",
       "version_major": 2,
       "version_minor": 0
      },
      "text/plain": [
       "HBox(children=(FloatProgress(value=0.0, description='Loss 0, Completed', layout=Layout(flex='2'), max=758.0, s…"
      ]
     },
     "metadata": {},
     "output_type": "display_data"
    },
    {
     "name": "stdout",
     "output_type": "stream",
     "text": [
      "\n",
      "Epoch 23 completed, average loss: 1.073, accuracy: 0.441\n",
      "Validation, average loss: 1.065, accuracy: 0.453\n"
     ]
    },
    {
     "data": {
      "application/vnd.jupyter.widget-view+json": {
       "model_id": "5bbdc58da4fa4fe1824c895a88380b4b",
       "version_major": 2,
       "version_minor": 0
      },
      "text/plain": [
       "HBox(children=(FloatProgress(value=0.0, description='Loss 0, Completed', layout=Layout(flex='2'), max=758.0, s…"
      ]
     },
     "metadata": {},
     "output_type": "display_data"
    },
    {
     "name": "stdout",
     "output_type": "stream",
     "text": [
      "\n",
      "Epoch 24 completed, average loss: 1.073, accuracy: 0.441\n",
      "Validation, average loss: 1.066, accuracy: 0.453\n"
     ]
    },
    {
     "data": {
      "application/vnd.jupyter.widget-view+json": {
       "model_id": "2c35a80d2b984479ab6e2cd4e0a9928a",
       "version_major": 2,
       "version_minor": 0
      },
      "text/plain": [
       "HBox(children=(FloatProgress(value=0.0, description='Loss 0, Completed', layout=Layout(flex='2'), max=758.0, s…"
      ]
     },
     "metadata": {},
     "output_type": "display_data"
    },
    {
     "name": "stdout",
     "output_type": "stream",
     "text": [
      "\n",
      "Epoch 25 completed, average loss: 1.073, accuracy: 0.441\n",
      "Validation, average loss: 1.065, accuracy: 0.453\n"
     ]
    },
    {
     "data": {
      "application/vnd.jupyter.widget-view+json": {
       "model_id": "0486732f62dc4235b963daa26825a681",
       "version_major": 2,
       "version_minor": 0
      },
      "text/plain": [
       "HBox(children=(FloatProgress(value=0.0, description='Loss 0, Completed', layout=Layout(flex='2'), max=758.0, s…"
      ]
     },
     "metadata": {},
     "output_type": "display_data"
    },
    {
     "name": "stdout",
     "output_type": "stream",
     "text": [
      "\n",
      "Epoch 26 completed, average loss: 1.074, accuracy: 0.441\n",
      "Validation, average loss: 1.065, accuracy: 0.453\n"
     ]
    },
    {
     "data": {
      "application/vnd.jupyter.widget-view+json": {
       "model_id": "951ec75ac6a343c6811e28f90eb1422c",
       "version_major": 2,
       "version_minor": 0
      },
      "text/plain": [
       "HBox(children=(FloatProgress(value=0.0, description='Loss 0, Completed', layout=Layout(flex='2'), max=758.0, s…"
      ]
     },
     "metadata": {},
     "output_type": "display_data"
    },
    {
     "name": "stdout",
     "output_type": "stream",
     "text": [
      "\n",
      "Epoch 27 completed, average loss: 1.073, accuracy: 0.441\n",
      "Validation, average loss: 1.065, accuracy: 0.453\n"
     ]
    },
    {
     "data": {
      "application/vnd.jupyter.widget-view+json": {
       "model_id": "cb31cdea94294d5cadc2bb991c9549d5",
       "version_major": 2,
       "version_minor": 0
      },
      "text/plain": [
       "HBox(children=(FloatProgress(value=0.0, description='Loss 0, Completed', layout=Layout(flex='2'), max=758.0, s…"
      ]
     },
     "metadata": {},
     "output_type": "display_data"
    },
    {
     "name": "stdout",
     "output_type": "stream",
     "text": [
      "\n",
      "Epoch 28 completed, average loss: 1.073, accuracy: 0.441\n",
      "Validation, average loss: 1.064, accuracy: 0.453\n"
     ]
    },
    {
     "data": {
      "application/vnd.jupyter.widget-view+json": {
       "model_id": "7b9c18dcaa4d4d7ea155c2e452491c2c",
       "version_major": 2,
       "version_minor": 0
      },
      "text/plain": [
       "HBox(children=(FloatProgress(value=0.0, description='Loss 0, Completed', layout=Layout(flex='2'), max=758.0, s…"
      ]
     },
     "metadata": {},
     "output_type": "display_data"
    },
    {
     "name": "stdout",
     "output_type": "stream",
     "text": [
      "\n",
      "Epoch 29 completed, average loss: 1.073, accuracy: 0.441\n",
      "Validation, average loss: 1.065, accuracy: 0.453\n"
     ]
    },
    {
     "data": {
      "application/vnd.jupyter.widget-view+json": {
       "model_id": "412f5ad5126f47dea640c9e1a7d67dac",
       "version_major": 2,
       "version_minor": 0
      },
      "text/plain": [
       "HBox(children=(FloatProgress(value=0.0, description='Loss 0, Completed', layout=Layout(flex='2'), max=758.0, s…"
      ]
     },
     "metadata": {},
     "output_type": "display_data"
    },
    {
     "name": "stdout",
     "output_type": "stream",
     "text": [
      "\n",
      "Epoch 30 completed, average loss: 1.073, accuracy: 0.441\n",
      "Validation, average loss: 1.065, accuracy: 0.453\n"
     ]
    }
   ],
   "source": [
    "model_vgg.train(trainloader, valdata = testloader, numberEpoch = 30)"
   ]
  },
  {
   "cell_type": "code",
   "execution_count": 10,
   "metadata": {},
   "outputs": [
    {
     "name": "stdout",
     "output_type": "stream",
     "text": [
      "Accuracy::  0.4494762784966112\n"
     ]
    }
   ],
   "source": [
    "prediction = model_vgg.predict(testloader)\n",
    "print(\"Accuracy:: \", accuracy_score(test_Y.tolist(), prediction))"
   ]
  },
  {
   "cell_type": "markdown",
   "metadata": {},
   "source": [
    "## Google net"
   ]
  },
  {
   "cell_type": "code",
   "execution_count": 29,
   "metadata": {},
   "outputs": [],
   "source": [
    "class GOOGLENET(nn.Module):\n",
    "    def __init__(self, criterion = None, optimizer = None, learning_rate = 0.001, image_dimention = 1, categories = 3):\n",
    "        super(GOOGLENET, self).__init__()\n",
    "        ## Defining networt\n",
    "         # Defaulf input image dimention is 1\n",
    "         # Default output categories is 3\n",
    "        self.pretrained = models.googlenet(pretrained = True, transform_input = False)\n",
    "        self.pretrained.conv1.conv = nn.Conv2d(image_dimention, 64, kernel_size=(7, 7), stride=(2, 2), padding=(3, 3), bias=False)\n",
    "        num_ftrs = self.pretrained.fc.in_features\n",
    "        self.pretrained.fc = nn.Linear(num_ftrs, categories, bias=True)\n",
    "        \n",
    "        ## Defining optimizer and loss function\n",
    "         # Default loss function is cross entropy\n",
    "         # Default optimizer is SGD\n",
    "         # Default learning rate is 0.001\n",
    "        if criterion:\n",
    "            self.criterion = criterion\n",
    "        else:\n",
    "            self.criterion = nn.CrossEntropyLoss()\n",
    "#             self.criterion = nn.NLLLoss()\n",
    "        if optimizer:\n",
    "            self.optimizer = optimizer\n",
    "        else:\n",
    "#             self.optimizer = optim.SGD(self.pretrained.parameters(), lr = learning_rate, momentum = 0.9)\n",
    "            self.optimizer = optim.Adam(self.pretrained.parameters(), lr = learning_rate)\n",
    "        \n",
    "    def forward(self, x):\n",
    "        x = self.pretrained.forward(x)\n",
    "        return x\n",
    "        \n",
    "    def train(self, traindata, valdata = None, numberEpoch = 10):\n",
    "        \n",
    "        trainlen = sum(list(batch[0].shape[0] for batch in traindata))\n",
    "        total_batch = len(traindata)\n",
    "        ## Loop over the dataset multiple times\n",
    "        for epoch in range(numberEpoch): \n",
    "            running_corrects = 0.0\n",
    "            running_loss     = 0.0\n",
    "            pbar = tqdm(enumerate(traindata, 0), total = total_batch, desc = \"Loss 0, Completed\", ncols = 800)\n",
    "            for count, data in pbar:\n",
    "                inputs, labels = data[0].to(device), data[1].to(device)\n",
    "                batch  = inputs.shape[0]\n",
    "                inputs = inputs.type(torch.cuda.FloatTensor)\n",
    "                \n",
    "                ## zero the parameter gradients\n",
    "                self.optimizer.zero_grad()\n",
    "                \n",
    "                ## forward + backward + optimize\n",
    "                outputs = self.forward(inputs)\n",
    "                _, preds = torch.max(outputs, 1)\n",
    "                loss = self.criterion(outputs, labels)\n",
    "                loss.backward()\n",
    "                self.optimizer.step()\n",
    "                \n",
    "                ## Calculating statistics\n",
    "                running_loss += loss.item() * batch\n",
    "                running_corrects += torch.sum(preds == labels.data)\n",
    "                \n",
    "                ## Showing statistics\n",
    "                pbar.set_description(\"Loss %.3f, Completed\" %(running_loss/trainlen))\n",
    "            epoch_loss = running_loss/trainlen\n",
    "            epoch_acc  = running_corrects/trainlen\n",
    "            print('Epoch %d completed, average loss: %.3f, accuracy: %.3f' %(epoch + 1, epoch_loss, epoch_acc))\n",
    "            \n",
    "            if valdata:\n",
    "                val_loss, val_acc = self.evaluate(valdata)\n",
    "                print('Validation, average loss: %.3f, accuracy: %.3f' %(val_loss, val_acc))\n",
    "                \n",
    "    def evaluate(self, testdata):\n",
    "        running_corrects = 0.0\n",
    "        running_loss     = 0.0\n",
    "        testlen = sum(list(batch[0].shape[0] for batch in testdata))\n",
    "        with torch.no_grad():\n",
    "            for data in testdata:\n",
    "                inputs, labels = data[0].to(device), data[1].to(device)\n",
    "                batch  = inputs.shape[0]\n",
    "                inputs = inputs.type(torch.cuda.FloatTensor)            \n",
    "                ## Forward\n",
    "                outputs = self.forward(inputs)\n",
    "                _, preds = torch.max(outputs, 1)\n",
    "                ## Loss and accuracy\n",
    "                loss = self.criterion(outputs, labels)\n",
    "                running_loss += loss.item() * batch\n",
    "                running_corrects += torch.sum(preds == labels.data)\n",
    "            \n",
    "        loss = running_loss/testlen\n",
    "        acc  = running_corrects/testlen\n",
    "        return loss, acc\n",
    "        \n",
    "    def predict(self, testdata, ID = None):\n",
    "        predicted_labels = []\n",
    "        for data in testdata:\n",
    "            inputs, labels = data[0].to(device), data[1].to(device)\n",
    "            batch  = inputs.shape[0]\n",
    "            inputs = inputs.type(torch.cuda.FloatTensor)            \n",
    "            ## Forward\n",
    "            outputs = self.forward(inputs)\n",
    "            _, preds = torch.max(outputs, 1)\n",
    "            predicted_labels += preds.tolist()\n",
    "        if ID:\n",
    "            return([ID[label] for label in predicted_labels])\n",
    "        return predicted_labels\n",
    "    \n",
    "def freeze_grad(model, percent_to_freeze = .80):\n",
    "    maxlayers = len(list(model.pretrained.children()))\n",
    "    freeze = int(maxlayers * percent_to_freeze)\n",
    "    print(\"Number of layers:: \", maxlayers)\n",
    "    print(\"Layers Freezed  :: \", freeze)\n",
    "    count = 0\n",
    "    for child in model.pretrained.children():\n",
    "        if count >= freeze:\n",
    "            break\n",
    "        for param in child.parameters():\n",
    "            param.requires_grad = False\n",
    "        count += 1"
   ]
  },
  {
   "cell_type": "code",
   "execution_count": 37,
   "metadata": {},
   "outputs": [
    {
     "name": "stdout",
     "output_type": "stream",
     "text": [
      "Number of layers::  19\n",
      "Layers Freezed  ::  9\n"
     ]
    }
   ],
   "source": [
    "model_gn = GOOGLENET()\n",
    "freeze_grad(model_gn, 0.5)\n",
    "model_gn = model_gn.to(device)"
   ]
  },
  {
   "cell_type": "code",
   "execution_count": 38,
   "metadata": {},
   "outputs": [
    {
     "data": {
      "application/vnd.jupyter.widget-view+json": {
       "model_id": "60bfe5949f384674923bf1d41ef0697e",
       "version_major": 2,
       "version_minor": 0
      },
      "text/plain": [
       "HBox(children=(FloatProgress(value=0.0, description='Loss 0, Completed', layout=Layout(flex='2'), max=758.0, s…"
      ]
     },
     "metadata": {},
     "output_type": "display_data"
    },
    {
     "name": "stdout",
     "output_type": "stream",
     "text": [
      "\n",
      "Epoch 1 completed, average loss: 1.072, accuracy: 0.466\n",
      "Validation, average loss: 1.006, accuracy: 0.537\n"
     ]
    },
    {
     "data": {
      "application/vnd.jupyter.widget-view+json": {
       "model_id": "41a36fbcd71c4466b1dd7e67d039fe16",
       "version_major": 2,
       "version_minor": 0
      },
      "text/plain": [
       "HBox(children=(FloatProgress(value=0.0, description='Loss 0, Completed', layout=Layout(flex='2'), max=758.0, s…"
      ]
     },
     "metadata": {},
     "output_type": "display_data"
    },
    {
     "name": "stdout",
     "output_type": "stream",
     "text": [
      "\n",
      "Epoch 2 completed, average loss: 0.964, accuracy: 0.551\n",
      "Validation, average loss: 1.007, accuracy: 0.536\n"
     ]
    },
    {
     "data": {
      "application/vnd.jupyter.widget-view+json": {
       "model_id": "b03c4b18304a4088b126e6f262a40fe8",
       "version_major": 2,
       "version_minor": 0
      },
      "text/plain": [
       "HBox(children=(FloatProgress(value=0.0, description='Loss 0, Completed', layout=Layout(flex='2'), max=758.0, s…"
      ]
     },
     "metadata": {},
     "output_type": "display_data"
    },
    {
     "name": "stdout",
     "output_type": "stream",
     "text": [
      "\n",
      "Epoch 3 completed, average loss: 0.900, accuracy: 0.596\n",
      "Validation, average loss: 0.996, accuracy: 0.528\n"
     ]
    },
    {
     "data": {
      "application/vnd.jupyter.widget-view+json": {
       "model_id": "469fb9000db64a8eba2897a0947ff67f",
       "version_major": 2,
       "version_minor": 0
      },
      "text/plain": [
       "HBox(children=(FloatProgress(value=0.0, description='Loss 0, Completed', layout=Layout(flex='2'), max=758.0, s…"
      ]
     },
     "metadata": {},
     "output_type": "display_data"
    },
    {
     "name": "stdout",
     "output_type": "stream",
     "text": [
      "\n",
      "Epoch 4 completed, average loss: 0.803, accuracy: 0.649\n",
      "Validation, average loss: 1.079, accuracy: 0.536\n"
     ]
    },
    {
     "data": {
      "application/vnd.jupyter.widget-view+json": {
       "model_id": "c0b7d64bc166460eaa8be5a572d3af9f",
       "version_major": 2,
       "version_minor": 0
      },
      "text/plain": [
       "HBox(children=(FloatProgress(value=0.0, description='Loss 0, Completed', layout=Layout(flex='2'), max=758.0, s…"
      ]
     },
     "metadata": {},
     "output_type": "display_data"
    },
    {
     "name": "stdout",
     "output_type": "stream",
     "text": [
      "\n",
      "Epoch 5 completed, average loss: 0.701, accuracy: 0.708\n",
      "Validation, average loss: 1.256, accuracy: 0.524\n"
     ]
    },
    {
     "data": {
      "application/vnd.jupyter.widget-view+json": {
       "model_id": "a1ff4033d1814703a822ef325e743a4a",
       "version_major": 2,
       "version_minor": 0
      },
      "text/plain": [
       "HBox(children=(FloatProgress(value=0.0, description='Loss 0, Completed', layout=Layout(flex='2'), max=758.0, s…"
      ]
     },
     "metadata": {},
     "output_type": "display_data"
    },
    {
     "name": "stdout",
     "output_type": "stream",
     "text": [
      "\n",
      "Epoch 6 completed, average loss: 0.601, accuracy: 0.753\n",
      "Validation, average loss: 1.452, accuracy: 0.507\n"
     ]
    },
    {
     "data": {
      "application/vnd.jupyter.widget-view+json": {
       "model_id": "2b266f77e73f4260bc9145a9ac33332e",
       "version_major": 2,
       "version_minor": 0
      },
      "text/plain": [
       "HBox(children=(FloatProgress(value=0.0, description='Loss 0, Completed', layout=Layout(flex='2'), max=758.0, s…"
      ]
     },
     "metadata": {},
     "output_type": "display_data"
    },
    {
     "name": "stdout",
     "output_type": "stream",
     "text": [
      "\n",
      "Epoch 7 completed, average loss: 0.492, accuracy: 0.810\n",
      "Validation, average loss: 1.761, accuracy: 0.521\n"
     ]
    },
    {
     "data": {
      "application/vnd.jupyter.widget-view+json": {
       "model_id": "17f207ae228644d8833ab5c30a97ac22",
       "version_major": 2,
       "version_minor": 0
      },
      "text/plain": [
       "HBox(children=(FloatProgress(value=0.0, description='Loss 0, Completed', layout=Layout(flex='2'), max=758.0, s…"
      ]
     },
     "metadata": {},
     "output_type": "display_data"
    },
    {
     "name": "stdout",
     "output_type": "stream",
     "text": [
      "\n",
      "Epoch 8 completed, average loss: 0.378, accuracy: 0.855\n",
      "Validation, average loss: 2.009, accuracy: 0.548\n"
     ]
    },
    {
     "data": {
      "application/vnd.jupyter.widget-view+json": {
       "model_id": "51c58e942b9948d7a5df83f2daa967a9",
       "version_major": 2,
       "version_minor": 0
      },
      "text/plain": [
       "HBox(children=(FloatProgress(value=0.0, description='Loss 0, Completed', layout=Layout(flex='2'), max=758.0, s…"
      ]
     },
     "metadata": {},
     "output_type": "display_data"
    },
    {
     "name": "stdout",
     "output_type": "stream",
     "text": [
      "\n",
      "Epoch 9 completed, average loss: 0.305, accuracy: 0.885\n",
      "Validation, average loss: 2.321, accuracy: 0.532\n"
     ]
    },
    {
     "data": {
      "application/vnd.jupyter.widget-view+json": {
       "model_id": "258c22d686d04d45a8039b83d71d911f",
       "version_major": 2,
       "version_minor": 0
      },
      "text/plain": [
       "HBox(children=(FloatProgress(value=0.0, description='Loss 0, Completed', layout=Layout(flex='2'), max=758.0, s…"
      ]
     },
     "metadata": {},
     "output_type": "display_data"
    },
    {
     "name": "stdout",
     "output_type": "stream",
     "text": [
      "\n",
      "Epoch 10 completed, average loss: 0.259, accuracy: 0.905\n",
      "Validation, average loss: 2.393, accuracy: 0.525\n"
     ]
    },
    {
     "data": {
      "application/vnd.jupyter.widget-view+json": {
       "model_id": "20674c9181fe4cc38db774f0646a4269",
       "version_major": 2,
       "version_minor": 0
      },
      "text/plain": [
       "HBox(children=(FloatProgress(value=0.0, description='Loss 0, Completed', layout=Layout(flex='2'), max=758.0, s…"
      ]
     },
     "metadata": {},
     "output_type": "display_data"
    },
    {
     "name": "stdout",
     "output_type": "stream",
     "text": [
      "\n",
      "Epoch 11 completed, average loss: 0.189, accuracy: 0.931\n",
      "Validation, average loss: 2.624, accuracy: 0.547\n"
     ]
    },
    {
     "data": {
      "application/vnd.jupyter.widget-view+json": {
       "model_id": "cb2d98f50df84ec885ab10286c821a37",
       "version_major": 2,
       "version_minor": 0
      },
      "text/plain": [
       "HBox(children=(FloatProgress(value=0.0, description='Loss 0, Completed', layout=Layout(flex='2'), max=758.0, s…"
      ]
     },
     "metadata": {},
     "output_type": "display_data"
    },
    {
     "name": "stdout",
     "output_type": "stream",
     "text": [
      "\n",
      "Epoch 12 completed, average loss: 0.153, accuracy: 0.946\n",
      "Validation, average loss: 2.530, accuracy: 0.542\n"
     ]
    },
    {
     "data": {
      "application/vnd.jupyter.widget-view+json": {
       "model_id": "539562b386ff42e381e9864b5aa4903b",
       "version_major": 2,
       "version_minor": 0
      },
      "text/plain": [
       "HBox(children=(FloatProgress(value=0.0, description='Loss 0, Completed', layout=Layout(flex='2'), max=758.0, s…"
      ]
     },
     "metadata": {},
     "output_type": "display_data"
    },
    {
     "name": "stdout",
     "output_type": "stream",
     "text": [
      "\n",
      "Epoch 13 completed, average loss: 0.139, accuracy: 0.951\n",
      "Validation, average loss: 2.820, accuracy: 0.539\n"
     ]
    },
    {
     "data": {
      "application/vnd.jupyter.widget-view+json": {
       "model_id": "82c8f26db5d54915b37430fe86e81cab",
       "version_major": 2,
       "version_minor": 0
      },
      "text/plain": [
       "HBox(children=(FloatProgress(value=0.0, description='Loss 0, Completed', layout=Layout(flex='2'), max=758.0, s…"
      ]
     },
     "metadata": {},
     "output_type": "display_data"
    },
    {
     "name": "stdout",
     "output_type": "stream",
     "text": [
      "\n",
      "Epoch 14 completed, average loss: 0.103, accuracy: 0.966\n",
      "Validation, average loss: 3.038, accuracy: 0.540\n"
     ]
    },
    {
     "data": {
      "application/vnd.jupyter.widget-view+json": {
       "model_id": "36cf124d9874434e949bb88b8fc7b19c",
       "version_major": 2,
       "version_minor": 0
      },
      "text/plain": [
       "HBox(children=(FloatProgress(value=0.0, description='Loss 0, Completed', layout=Layout(flex='2'), max=758.0, s…"
      ]
     },
     "metadata": {},
     "output_type": "display_data"
    },
    {
     "name": "stdout",
     "output_type": "stream",
     "text": [
      "\n",
      "Epoch 15 completed, average loss: 0.102, accuracy: 0.966\n",
      "Validation, average loss: 3.097, accuracy: 0.537\n"
     ]
    },
    {
     "data": {
      "application/vnd.jupyter.widget-view+json": {
       "model_id": "0cad06933cf5414e9adfcecf2bdbb2b7",
       "version_major": 2,
       "version_minor": 0
      },
      "text/plain": [
       "HBox(children=(FloatProgress(value=0.0, description='Loss 0, Completed', layout=Layout(flex='2'), max=758.0, s…"
      ]
     },
     "metadata": {},
     "output_type": "display_data"
    },
    {
     "name": "stdout",
     "output_type": "stream",
     "text": [
      "\n",
      "Epoch 16 completed, average loss: 0.086, accuracy: 0.970\n",
      "Validation, average loss: 3.160, accuracy: 0.546\n"
     ]
    },
    {
     "data": {
      "application/vnd.jupyter.widget-view+json": {
       "model_id": "42b2a118b3004195a65f662c6455da8c",
       "version_major": 2,
       "version_minor": 0
      },
      "text/plain": [
       "HBox(children=(FloatProgress(value=0.0, description='Loss 0, Completed', layout=Layout(flex='2'), max=758.0, s…"
      ]
     },
     "metadata": {},
     "output_type": "display_data"
    },
    {
     "name": "stdout",
     "output_type": "stream",
     "text": [
      "\n",
      "Epoch 17 completed, average loss: 0.082, accuracy: 0.973\n",
      "Validation, average loss: 3.273, accuracy: 0.560\n"
     ]
    },
    {
     "data": {
      "application/vnd.jupyter.widget-view+json": {
       "model_id": "891f1274fbde43459869c70cbb2a6483",
       "version_major": 2,
       "version_minor": 0
      },
      "text/plain": [
       "HBox(children=(FloatProgress(value=0.0, description='Loss 0, Completed', layout=Layout(flex='2'), max=758.0, s…"
      ]
     },
     "metadata": {},
     "output_type": "display_data"
    },
    {
     "name": "stdout",
     "output_type": "stream",
     "text": [
      "\n",
      "Epoch 18 completed, average loss: 0.060, accuracy: 0.981\n",
      "Validation, average loss: 3.323, accuracy: 0.548\n"
     ]
    },
    {
     "data": {
      "application/vnd.jupyter.widget-view+json": {
       "model_id": "5709c8433ade4b858caf07b453081d50",
       "version_major": 2,
       "version_minor": 0
      },
      "text/plain": [
       "HBox(children=(FloatProgress(value=0.0, description='Loss 0, Completed', layout=Layout(flex='2'), max=758.0, s…"
      ]
     },
     "metadata": {},
     "output_type": "display_data"
    },
    {
     "name": "stdout",
     "output_type": "stream",
     "text": [
      "\n",
      "Epoch 19 completed, average loss: 0.068, accuracy: 0.977\n",
      "Validation, average loss: 3.520, accuracy: 0.536\n"
     ]
    },
    {
     "data": {
      "application/vnd.jupyter.widget-view+json": {
       "model_id": "c897f06ef2dd48aa85dd0a9de70ced44",
       "version_major": 2,
       "version_minor": 0
      },
      "text/plain": [
       "HBox(children=(FloatProgress(value=0.0, description='Loss 0, Completed', layout=Layout(flex='2'), max=758.0, s…"
      ]
     },
     "metadata": {},
     "output_type": "display_data"
    },
    {
     "name": "stdout",
     "output_type": "stream",
     "text": [
      "\n",
      "Epoch 20 completed, average loss: 0.061, accuracy: 0.980\n",
      "Validation, average loss: 3.344, accuracy: 0.548\n"
     ]
    },
    {
     "data": {
      "application/vnd.jupyter.widget-view+json": {
       "model_id": "8278b08bfa8f44b8b56283acc022186a",
       "version_major": 2,
       "version_minor": 0
      },
      "text/plain": [
       "HBox(children=(FloatProgress(value=0.0, description='Loss 0, Completed', layout=Layout(flex='2'), max=758.0, s…"
      ]
     },
     "metadata": {},
     "output_type": "display_data"
    },
    {
     "name": "stdout",
     "output_type": "stream",
     "text": [
      "\n",
      "Epoch 21 completed, average loss: 0.054, accuracy: 0.982\n",
      "Validation, average loss: 3.553, accuracy: 0.558\n"
     ]
    },
    {
     "data": {
      "application/vnd.jupyter.widget-view+json": {
       "model_id": "14bc2f19130b4c1fb4b584dcb32c2156",
       "version_major": 2,
       "version_minor": 0
      },
      "text/plain": [
       "HBox(children=(FloatProgress(value=0.0, description='Loss 0, Completed', layout=Layout(flex='2'), max=758.0, s…"
      ]
     },
     "metadata": {},
     "output_type": "display_data"
    },
    {
     "name": "stdout",
     "output_type": "stream",
     "text": [
      "\n",
      "Epoch 22 completed, average loss: 0.051, accuracy: 0.982\n",
      "Validation, average loss: 3.842, accuracy: 0.542\n"
     ]
    },
    {
     "data": {
      "application/vnd.jupyter.widget-view+json": {
       "model_id": "79361c8dd58a4a6e8f0fd16048e5511a",
       "version_major": 2,
       "version_minor": 0
      },
      "text/plain": [
       "HBox(children=(FloatProgress(value=0.0, description='Loss 0, Completed', layout=Layout(flex='2'), max=758.0, s…"
      ]
     },
     "metadata": {},
     "output_type": "display_data"
    },
    {
     "name": "stdout",
     "output_type": "stream",
     "text": [
      "\n",
      "Epoch 23 completed, average loss: 0.059, accuracy: 0.980\n",
      "Validation, average loss: 3.648, accuracy: 0.545\n"
     ]
    },
    {
     "data": {
      "application/vnd.jupyter.widget-view+json": {
       "model_id": "042cf89509f0437b886e71037fb25a70",
       "version_major": 2,
       "version_minor": 0
      },
      "text/plain": [
       "HBox(children=(FloatProgress(value=0.0, description='Loss 0, Completed', layout=Layout(flex='2'), max=758.0, s…"
      ]
     },
     "metadata": {},
     "output_type": "display_data"
    },
    {
     "name": "stdout",
     "output_type": "stream",
     "text": [
      "\n",
      "Epoch 24 completed, average loss: 0.058, accuracy: 0.980\n",
      "Validation, average loss: 3.633, accuracy: 0.547\n"
     ]
    },
    {
     "data": {
      "application/vnd.jupyter.widget-view+json": {
       "model_id": "44fcb90332d943718fd41b99912b06c6",
       "version_major": 2,
       "version_minor": 0
      },
      "text/plain": [
       "HBox(children=(FloatProgress(value=0.0, description='Loss 0, Completed', layout=Layout(flex='2'), max=758.0, s…"
      ]
     },
     "metadata": {},
     "output_type": "display_data"
    },
    {
     "name": "stdout",
     "output_type": "stream",
     "text": [
      "\n",
      "Epoch 25 completed, average loss: 0.047, accuracy: 0.982\n",
      "Validation, average loss: 3.864, accuracy: 0.571\n"
     ]
    },
    {
     "data": {
      "application/vnd.jupyter.widget-view+json": {
       "model_id": "3af1c92cab024de5ae8a1b4c4f530f13",
       "version_major": 2,
       "version_minor": 0
      },
      "text/plain": [
       "HBox(children=(FloatProgress(value=0.0, description='Loss 0, Completed', layout=Layout(flex='2'), max=758.0, s…"
      ]
     },
     "metadata": {},
     "output_type": "display_data"
    },
    {
     "name": "stdout",
     "output_type": "stream",
     "text": [
      "\n",
      "Epoch 26 completed, average loss: 0.032, accuracy: 0.989\n",
      "Validation, average loss: 4.391, accuracy: 0.554\n"
     ]
    },
    {
     "data": {
      "application/vnd.jupyter.widget-view+json": {
       "model_id": "cba7576a01d54555b8764e8a8539ae50",
       "version_major": 2,
       "version_minor": 0
      },
      "text/plain": [
       "HBox(children=(FloatProgress(value=0.0, description='Loss 0, Completed', layout=Layout(flex='2'), max=758.0, s…"
      ]
     },
     "metadata": {},
     "output_type": "display_data"
    },
    {
     "name": "stdout",
     "output_type": "stream",
     "text": [
      "\n",
      "Epoch 27 completed, average loss: 0.054, accuracy: 0.983\n",
      "Validation, average loss: 3.786, accuracy: 0.555\n"
     ]
    },
    {
     "data": {
      "application/vnd.jupyter.widget-view+json": {
       "model_id": "55db72ca8dbb418aa1d47ac107bee091",
       "version_major": 2,
       "version_minor": 0
      },
      "text/plain": [
       "HBox(children=(FloatProgress(value=0.0, description='Loss 0, Completed', layout=Layout(flex='2'), max=758.0, s…"
      ]
     },
     "metadata": {},
     "output_type": "display_data"
    },
    {
     "name": "stdout",
     "output_type": "stream",
     "text": [
      "\n",
      "Epoch 28 completed, average loss: 0.032, accuracy: 0.988\n",
      "Validation, average loss: 4.246, accuracy: 0.549\n"
     ]
    },
    {
     "data": {
      "application/vnd.jupyter.widget-view+json": {
       "model_id": "5e751a55c7b24708bd82070f48f23bcd",
       "version_major": 2,
       "version_minor": 0
      },
      "text/plain": [
       "HBox(children=(FloatProgress(value=0.0, description='Loss 0, Completed', layout=Layout(flex='2'), max=758.0, s…"
      ]
     },
     "metadata": {},
     "output_type": "display_data"
    },
    {
     "name": "stdout",
     "output_type": "stream",
     "text": [
      "\n",
      "Epoch 29 completed, average loss: 0.046, accuracy: 0.984\n",
      "Validation, average loss: 3.929, accuracy: 0.547\n"
     ]
    },
    {
     "data": {
      "application/vnd.jupyter.widget-view+json": {
       "model_id": "5bb1252bd0ef4d348402e5886c9b52ce",
       "version_major": 2,
       "version_minor": 0
      },
      "text/plain": [
       "HBox(children=(FloatProgress(value=0.0, description='Loss 0, Completed', layout=Layout(flex='2'), max=758.0, s…"
      ]
     },
     "metadata": {},
     "output_type": "display_data"
    },
    {
     "name": "stdout",
     "output_type": "stream",
     "text": [
      "\n",
      "Epoch 30 completed, average loss: 0.028, accuracy: 0.989\n",
      "Validation, average loss: 4.186, accuracy: 0.540\n"
     ]
    }
   ],
   "source": [
    "model_gn.train(trainloader, valdata = testloader, numberEpoch = 30)"
   ]
  },
  {
   "cell_type": "code",
   "execution_count": 32,
   "metadata": {},
   "outputs": [
    {
     "name": "stdout",
     "output_type": "stream",
     "text": [
      "Accuracy::  0.6953173136167591\n"
     ]
    }
   ],
   "source": [
    "prediction = model_gn.predict(testloader)\n",
    "print(\"Accuracy:: \", accuracy_score(test_Y.tolist(), prediction))"
   ]
  },
  {
   "cell_type": "markdown",
   "metadata": {},
   "source": [
    "## Visualization"
   ]
  },
  {
   "cell_type": "code",
   "execution_count": 33,
   "metadata": {},
   "outputs": [],
   "source": [
    "def show_results(categories, true_categories, predicted_categories):\n",
    "    cm = confusion_matrix(true_categories, predicted_categories, normalize = \"true\")\n",
    "    \n",
    "    df_cm = pd.DataFrame(cm, columns=np.unique(true_categories), index = np.unique(true_categories))\n",
    "    df_cm.index.name = 'Actual'\n",
    "    df_cm.columns.name = 'Predicted'\n",
    "    \n",
    "    plt.figure(figsize = (12, 12))\n",
    "    sn.set(font_scale=1.4)#for label size\n",
    "    sn.heatmap(df_cm, cmap=\"Blues\", annot = True, annot_kws={\"size\": 16})# font size\n",
    "    tick_marks = np.arange(len(categories))\n",
    "    plt.xticks(tick_marks + 0.5, categories, rotation=45)\n",
    "    plt.yticks(tick_marks + 0.5, categories, rotation = 0, va = \"center\")\n",
    "    plt.show()"
   ]
  },
  {
   "cell_type": "code",
   "execution_count": 34,
   "metadata": {},
   "outputs": [
    {
     "data": {
      "image/png": "[encoded data removed]",
      "text/plain": [
       "<Figure size 864x864 with 2 Axes>"
      ]
     },
     "metadata": {
      "needs_background": "light"
     },
     "output_type": "display_data"
    }
   ],
   "source": [
    "show_results(id2cls, test_Y.tolist(), prediction)"
   ]
  },
  {
   "cell_type": "markdown",
   "metadata": {},
   "source": [
    "## Rough"
   ]
  },
  {
   "cell_type": "code",
   "execution_count": 375,
   "metadata": {},
   "outputs": [],
   "source": [
    "# model_ft = models.resnet101(pretrained = True)\n",
    "# model_ft = models.resnext101_32x8d(pretrained=True)\n",
    "# model_ft = models.wide_resnet101_2(pretrained = True)\n",
    "model_ft = models.vgg19(pretrained = True)\n",
    "# model_ft.Conv2d_1a_3x3.conv = nn.Conv2d(1, 64, kernel_size = (3, 3), stride=(2,2), bias=False)\n",
    "# num_ftrs = model_ft.fc.in_features\n",
    "# model_ft.fc = nn.Linear(num_ftrs, 3)\n",
    "# model_ft.parameters.0"
   ]
  },
  {
   "cell_type": "code",
   "execution_count": 325,
   "metadata": {},
   "outputs": [],
   "source": [
    "# for param in model.resnet.parameters():\n",
    "#     print(param.requires_grad)"
   ]
  },
  {
   "cell_type": "code",
   "execution_count": null,
   "metadata": {},
   "outputs": [],
   "source": []
  }
 ],
 "metadata": {
  "kernelspec": {
   "display_name": "Python 3",
   "language": "python",
   "name": "python3"
  },
  "language_info": {
   "codemirror_mode": {
    "name": "ipython",
    "version": 3
   },
   "file_extension": ".py",
   "mimetype": "text/x-python",
   "name": "python",
   "nbconvert_exporter": "python",
   "pygments_lexer": "ipython3",
   "version": "3.6.8"
  }
 },
 "nbformat": 4,
 "nbformat_minor": 4
}
